{
 "cells": [
  {
   "cell_type": "code",
   "execution_count": 131,
   "metadata": {},
   "outputs": [],
   "source": [
    "import numpy as np\n",
    "import time\n",
    "from IPython.display import clear_output"
   ]
  },
  {
   "cell_type": "markdown",
   "metadata": {},
   "source": [
    "Functions to create and initialize grid"
   ]
  },
  {
   "cell_type": "code",
   "execution_count": 132,
   "metadata": {},
   "outputs": [],
   "source": [
    "def create_grid(rows, cols):\n",
    "  return np.zeros((rows, cols))\n",
    "\n",
    "def initialize_grid(grid, pattern=None, prop_alive=0.5):\n",
    "  if (pattern == 'glider' or pattern == 'pulsar'):\n",
    "    pattern_array = np.genfromtxt(f'./data/patterns/{pattern}.txt', dtype=str, delimiter=1)\n",
    "    pattern_rows, pattern_cols = pattern_array.shape\n",
    "    for i in range(grid.shape[0]):\n",
    "        for j in range(grid.shape[1]):\n",
    "          grid[i][j] = pattern_array[i % pattern_rows][j % pattern_cols]\n",
    "  else:\n",
    "    grid = np.random.choice([0, 1], size=grid.shape, p=[1-prop_alive, prop_alive])\n",
    "  \n",
    "  return grid\n",
    "    \n",
    "def get_neighbours(grid, row, col):\n",
    "  # Function improved with help from ChatGPT\n",
    "  x_min, x_max = max(0, row-1), min(row+2, grid.shape[0])\n",
    "  y_min, y_max = max(0, col-1), min(col+2, grid.shape[1])\n",
    "  neighbours = grid[x_min:x_max, y_min:y_max].flatten()\n",
    "  return np.delete(neighbours, ((row-x_min) * (y_max - y_min) + (col-y_min))) \n",
    "\n",
    "def display_grid(grid):\n",
    "  for i in range(grid.shape[0]):\n",
    "    for j in range(grid.shape[1]):\n",
    "      print('█' if grid[i,j] == 1 else '░', end=' ')\n",
    "    print()"
   ]
  },
  {
   "cell_type": "markdown",
   "metadata": {},
   "source": [
    "Initialize a 5x5 grid with a glider pattern"
   ]
  },
  {
   "cell_type": "code",
   "execution_count": 133,
   "metadata": {},
   "outputs": [
    {
     "name": "stdout",
     "output_type": "stream",
     "text": [
      "░ █ ░ ░ █ \n",
      "░ ░ █ ░ ░ \n",
      "█ █ █ █ █ \n",
      "░ █ ░ ░ █ \n",
      "░ ░ █ ░ ░ \n"
     ]
    }
   ],
   "source": [
    "grid = initialize_grid(create_grid(5, 5), \"glider\")\n",
    "display_grid(grid)\n"
   ]
  },
  {
   "cell_type": "markdown",
   "metadata": {},
   "source": [
    "Implement game logic"
   ]
  },
  {
   "cell_type": "code",
   "execution_count": 134,
   "metadata": {},
   "outputs": [],
   "source": [
    "def count_live_neighbors(grid, row, col):\n",
    "  return np.sum(get_neighbours(grid, row, col))\n",
    "\n",
    "def is_alive(grid, row, col):\n",
    "  cell = grid[row][col]\n",
    "  neighbours = count_live_neighbors(grid, row, col)\n",
    "  \n",
    "  if (cell == 1):\n",
    "    return neighbours == 2 or neighbours == 3\n",
    "  else:\n",
    "    return neighbours == 3\n",
    "  \n",
    "def apply_rules(grid):\n",
    "  new_grid = np.zeros(grid.shape,dtype=int)\n",
    "  \n",
    "  for i in range(grid.shape[0]):\n",
    "    for j in range(grid.shape[1]):\n",
    "      new_grid[i,j] = is_alive(grid, i, j)\n",
    "      \n",
    "  return new_grid"
   ]
  },
  {
   "cell_type": "markdown",
   "metadata": {},
   "source": [
    "Test one iteration"
   ]
  },
  {
   "cell_type": "code",
   "execution_count": 135,
   "metadata": {},
   "outputs": [
    {
     "name": "stdout",
     "output_type": "stream",
     "text": [
      "░ ░ ░ ░ ░ \n",
      "█ ░ ░ ░ █ \n",
      "█ ░ ░ ░ █ \n",
      "█ ░ ░ ░ █ \n",
      "░ ░ ░ ░ ░ \n"
     ]
    }
   ],
   "source": [
    "grid = initialize_grid(create_grid(5, 5), \"glider\")\n",
    "display_grid(apply_rules(grid))"
   ]
  },
  {
   "cell_type": "code",
   "execution_count": 136,
   "metadata": {},
   "outputs": [],
   "source": [
    "def iterate(grid, iterations=10, delay=0.5):\n",
    "  for _ in range(iterations):\n",
    "    clear_output(wait=True)\n",
    "    grid = apply_rules(grid)\n",
    "    display_grid(grid)\n",
    "    if np.sum(grid) == 0:\n",
    "      break\n",
    "    \n",
    "    time.sleep(delay)\n",
    "    \n",
    "  return grid\n",
    "    \n",
    "def play_game(rows=10, cols=10, pattern=None, prop_alive=0.5, iterations = 10, delay=0.5):\n",
    "  grid = create_grid(rows, cols)\n",
    "  grid = initialize_grid(grid, pattern, prop_alive)\n",
    "  display_grid(grid)\n",
    "  time.sleep(delay)\n",
    "  grid = iterate(grid,iterations,delay)\n",
    "  return grid"
   ]
  },
  {
   "cell_type": "markdown",
   "metadata": {},
   "source": [
    "Play the game!"
   ]
  },
  {
   "cell_type": "code",
   "execution_count": 139,
   "metadata": {},
   "outputs": [
    {
     "name": "stdout",
     "output_type": "stream",
     "text": [
      "░ ░ ░ ░ ░ ░ ░ ░ ░ ░ \n",
      "░ ░ ░ ░ ░ ░ ░ ░ ░ ░ \n",
      "░ ░ ░ ░ ░ ░ ░ ░ ░ ░ \n",
      "░ ░ ░ ░ ░ ░ ░ ░ ░ ░ \n",
      "░ ░ ░ ░ ░ ░ ░ ░ ░ ░ \n",
      "░ ░ ░ ░ ░ ░ ░ ░ ░ ░ \n",
      "░ ░ ░ ░ ░ ░ ░ ░ ░ ░ \n",
      "░ ░ ░ ░ ░ ░ ░ ░ ░ ░ \n",
      "░ ░ ░ ░ ░ ░ ░ █ █ ░ \n",
      "░ ░ ░ ░ ░ ░ ░ █ █ ░ \n"
     ]
    }
   ],
   "source": [
    "final_grid = play_game(10, 10, prop_alive = 0.7)"
   ]
  }
 ],
 "metadata": {
  "kernelspec": {
   "display_name": ".venv",
   "language": "python",
   "name": "python3"
  },
  "language_info": {
   "codemirror_mode": {
    "name": "ipython",
    "version": 3
   },
   "file_extension": ".py",
   "mimetype": "text/x-python",
   "name": "python",
   "nbconvert_exporter": "python",
   "pygments_lexer": "ipython3",
   "version": "3.12.1"
  }
 },
 "nbformat": 4,
 "nbformat_minor": 2
}
